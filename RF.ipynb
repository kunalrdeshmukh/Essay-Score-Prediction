{
 "cells": [
  {
   "cell_type": "markdown",
   "metadata": {},
   "source": [
    "Lets try support vector regression"
   ]
  },
  {
   "cell_type": "code",
   "execution_count": 1,
   "metadata": {},
   "outputs": [],
   "source": [
    "import numpy as np\n",
    "import pandas as pd\n",
    "import matplotlib.pyplot as plt\n",
    "from sklearn.svm import SVR"
   ]
  },
  {
   "cell_type": "code",
   "execution_count": 2,
   "metadata": {},
   "outputs": [],
   "source": [
    "# load data\n",
    "df = pd.read_csv('data_frame.csv',sep='\\t', encoding='utf-8')\n",
    "X = np.loadtxt('X.out', delimiter=',')\n",
    "Y = np.loadtxt('Y.out',delimiter=',')"
   ]
  },
  {
   "cell_type": "code",
   "execution_count": 3,
   "metadata": {},
   "outputs": [],
   "source": [
    "from sklearn.model_selection import train_test_split\n",
    "X_train, X_test, y_train, y_test = train_test_split(X, Y, test_size=0.33, random_state=42)"
   ]
  },
  {
   "cell_type": "code",
   "execution_count": 4,
   "metadata": {},
   "outputs": [
    {
     "data": {
      "text/html": [
       "<div>\n",
       "<style scoped>\n",
       "    .dataframe tbody tr th:only-of-type {\n",
       "        vertical-align: middle;\n",
       "    }\n",
       "\n",
       "    .dataframe tbody tr th {\n",
       "        vertical-align: top;\n",
       "    }\n",
       "\n",
       "    .dataframe thead th {\n",
       "        text-align: right;\n",
       "    }\n",
       "</style>\n",
       "<table border=\"1\" class=\"dataframe\">\n",
       "  <thead>\n",
       "    <tr style=\"text-align: right;\">\n",
       "      <th></th>\n",
       "      <th>Unnamed: 0</th>\n",
       "      <th>essay_id</th>\n",
       "      <th>essay_set</th>\n",
       "      <th>essay</th>\n",
       "      <th>rater1_domain1</th>\n",
       "      <th>rater2_domain1</th>\n",
       "      <th>domain1_score</th>\n",
       "      <th>lengthy_words</th>\n",
       "      <th>tokenized_essay</th>\n",
       "      <th>Avg_word_len</th>\n",
       "      <th>...</th>\n",
       "      <th>punctuation</th>\n",
       "      <th>mentions</th>\n",
       "      <th>mentions_count</th>\n",
       "      <th>spell_mistakes</th>\n",
       "      <th>essay_POS</th>\n",
       "      <th>count_adjectives</th>\n",
       "      <th>count_nouns</th>\n",
       "      <th>count_adverbs</th>\n",
       "      <th>num_sentences</th>\n",
       "      <th>bag_of_words</th>\n",
       "    </tr>\n",
       "  </thead>\n",
       "  <tbody>\n",
       "    <tr>\n",
       "      <th>0</th>\n",
       "      <td>0</td>\n",
       "      <td>1</td>\n",
       "      <td>1</td>\n",
       "      <td>Dear local newspaper, I think effects computer...</td>\n",
       "      <td>4.0</td>\n",
       "      <td>4.0</td>\n",
       "      <td>8.0</td>\n",
       "      <td>0.254438</td>\n",
       "      <td>[dear, local, newspaper,, I, think, effect, co...</td>\n",
       "      <td>4.550296</td>\n",
       "      <td>...</td>\n",
       "      <td>55.0</td>\n",
       "      <td>[@ORGANIZATION1,, @ORGANIZATION2,, @CAPS1,, @D...</td>\n",
       "      <td>5</td>\n",
       "      <td>42.0</td>\n",
       "      <td>[(Dear, NNP), (local, JJ), (newspaper, NN), (,...</td>\n",
       "      <td>0.051813</td>\n",
       "      <td>0.142487</td>\n",
       "      <td>0.054404</td>\n",
       "      <td>11</td>\n",
       "      <td>[{u'Dear': 1}, {u'local': 1}, {u'newspaper': 1...</td>\n",
       "    </tr>\n",
       "    <tr>\n",
       "      <th>1</th>\n",
       "      <td>1</td>\n",
       "      <td>2</td>\n",
       "      <td>1</td>\n",
       "      <td>Dear @CAPS1 @CAPS2, I believe that using compu...</td>\n",
       "      <td>5.0</td>\n",
       "      <td>4.0</td>\n",
       "      <td>9.0</td>\n",
       "      <td>0.269690</td>\n",
       "      <td>[dear, @caps1, @caps2,, I, believ, use, comput...</td>\n",
       "      <td>4.463007</td>\n",
       "      <td>...</td>\n",
       "      <td>46.0</td>\n",
       "      <td>[@CAPS1, @CAPS2,, @NUM1, @MONTH1, @LOCATION1.,...</td>\n",
       "      <td>10</td>\n",
       "      <td>34.0</td>\n",
       "      <td>[(Dear, NNP), (@, NNP), (CAPS1, NNP), (@, NNP)...</td>\n",
       "      <td>0.040948</td>\n",
       "      <td>0.118534</td>\n",
       "      <td>0.036638</td>\n",
       "      <td>19</td>\n",
       "      <td>[{u'Dear': 1}, {u'CAPS1': 1}, {u'CAPS2': 1}, {...</td>\n",
       "    </tr>\n",
       "    <tr>\n",
       "      <th>2</th>\n",
       "      <td>2</td>\n",
       "      <td>3</td>\n",
       "      <td>1</td>\n",
       "      <td>Dear, @CAPS1 @CAPS2 @CAPS3 More and more peopl...</td>\n",
       "      <td>4.0</td>\n",
       "      <td>3.0</td>\n",
       "      <td>7.0</td>\n",
       "      <td>0.308244</td>\n",
       "      <td>[dear,, @caps1, @caps2, @caps3, more, peopl, u...</td>\n",
       "      <td>4.526882</td>\n",
       "      <td>...</td>\n",
       "      <td>34.0</td>\n",
       "      <td>[@CAPS1, @CAPS2, @CAPS3, @CAPS4,, @MONTH1, @CA...</td>\n",
       "      <td>7</td>\n",
       "      <td>16.0</td>\n",
       "      <td>[(Dear, NNP), (,, ,), (@, NNP), (CAPS1, NNP), ...</td>\n",
       "      <td>0.047923</td>\n",
       "      <td>0.124601</td>\n",
       "      <td>0.035144</td>\n",
       "      <td>15</td>\n",
       "      <td>[{u'Dear': 1}, {u'CAPS1': 1}, {u'CAPS2': 1}, {...</td>\n",
       "    </tr>\n",
       "    <tr>\n",
       "      <th>3</th>\n",
       "      <td>3</td>\n",
       "      <td>4</td>\n",
       "      <td>1</td>\n",
       "      <td>Dear Local Newspaper, @CAPS1 I have found that...</td>\n",
       "      <td>5.0</td>\n",
       "      <td>5.0</td>\n",
       "      <td>10.0</td>\n",
       "      <td>0.383588</td>\n",
       "      <td>[dear, local, newspaper,, @caps1, I, found, ma...</td>\n",
       "      <td>5.041985</td>\n",
       "      <td>...</td>\n",
       "      <td>91.0</td>\n",
       "      <td>[@CAPS1, @PERCENT1, @CAPS2, @PERSON1, @PERSON2...</td>\n",
       "      <td>39</td>\n",
       "      <td>80.0</td>\n",
       "      <td>[(Dear, NNP), (Local, NNP), (Newspaper, NNP), ...</td>\n",
       "      <td>0.068740</td>\n",
       "      <td>0.119476</td>\n",
       "      <td>0.042553</td>\n",
       "      <td>25</td>\n",
       "      <td>[{u'Dear': 1}, {u'Local': 1}, {u'Newspaper': 1...</td>\n",
       "    </tr>\n",
       "    <tr>\n",
       "      <th>4</th>\n",
       "      <td>4</td>\n",
       "      <td>5</td>\n",
       "      <td>1</td>\n",
       "      <td>Dear @LOCATION1, I know having computers has a...</td>\n",
       "      <td>4.0</td>\n",
       "      <td>4.0</td>\n",
       "      <td>8.0</td>\n",
       "      <td>0.288172</td>\n",
       "      <td>[dear, @location1,, I, know, comput, posit, ef...</td>\n",
       "      <td>4.526882</td>\n",
       "      <td>...</td>\n",
       "      <td>55.0</td>\n",
       "      <td>[@LOCATION1,, @NUM1, @LOCATION2, @CAPS1]</td>\n",
       "      <td>4</td>\n",
       "      <td>28.0</td>\n",
       "      <td>[(Dear, NNP), (@, NNP), (LOCATION1, NNP), (,, ...</td>\n",
       "      <td>0.044487</td>\n",
       "      <td>0.127660</td>\n",
       "      <td>0.065764</td>\n",
       "      <td>31</td>\n",
       "      <td>[{u'Dear': 1}, {u'LOCATION1': 1}, {u'I': 1}, {...</td>\n",
       "    </tr>\n",
       "  </tbody>\n",
       "</table>\n",
       "<p>5 rows × 21 columns</p>\n",
       "</div>"
      ],
      "text/plain": [
       "   Unnamed: 0  essay_id  essay_set  \\\n",
       "0           0         1          1   \n",
       "1           1         2          1   \n",
       "2           2         3          1   \n",
       "3           3         4          1   \n",
       "4           4         5          1   \n",
       "\n",
       "                                               essay  rater1_domain1  \\\n",
       "0  Dear local newspaper, I think effects computer...             4.0   \n",
       "1  Dear @CAPS1 @CAPS2, I believe that using compu...             5.0   \n",
       "2  Dear, @CAPS1 @CAPS2 @CAPS3 More and more peopl...             4.0   \n",
       "3  Dear Local Newspaper, @CAPS1 I have found that...             5.0   \n",
       "4  Dear @LOCATION1, I know having computers has a...             4.0   \n",
       "\n",
       "   rater2_domain1  domain1_score  lengthy_words  \\\n",
       "0             4.0            8.0       0.254438   \n",
       "1             4.0            9.0       0.269690   \n",
       "2             3.0            7.0       0.308244   \n",
       "3             5.0           10.0       0.383588   \n",
       "4             4.0            8.0       0.288172   \n",
       "\n",
       "                                     tokenized_essay  Avg_word_len  \\\n",
       "0  [dear, local, newspaper,, I, think, effect, co...      4.550296   \n",
       "1  [dear, @caps1, @caps2,, I, believ, use, comput...      4.463007   \n",
       "2  [dear,, @caps1, @caps2, @caps3, more, peopl, u...      4.526882   \n",
       "3  [dear, local, newspaper,, @caps1, I, found, ma...      5.041985   \n",
       "4  [dear, @location1,, I, know, comput, posit, ef...      4.526882   \n",
       "\n",
       "                         ...                          punctuation  \\\n",
       "0                        ...                                 55.0   \n",
       "1                        ...                                 46.0   \n",
       "2                        ...                                 34.0   \n",
       "3                        ...                                 91.0   \n",
       "4                        ...                                 55.0   \n",
       "\n",
       "                                            mentions mentions_count  \\\n",
       "0  [@ORGANIZATION1,, @ORGANIZATION2,, @CAPS1,, @D...              5   \n",
       "1  [@CAPS1, @CAPS2,, @NUM1, @MONTH1, @LOCATION1.,...             10   \n",
       "2  [@CAPS1, @CAPS2, @CAPS3, @CAPS4,, @MONTH1, @CA...              7   \n",
       "3  [@CAPS1, @PERCENT1, @CAPS2, @PERSON1, @PERSON2...             39   \n",
       "4           [@LOCATION1,, @NUM1, @LOCATION2, @CAPS1]              4   \n",
       "\n",
       "   spell_mistakes                                          essay_POS  \\\n",
       "0            42.0  [(Dear, NNP), (local, JJ), (newspaper, NN), (,...   \n",
       "1            34.0  [(Dear, NNP), (@, NNP), (CAPS1, NNP), (@, NNP)...   \n",
       "2            16.0  [(Dear, NNP), (,, ,), (@, NNP), (CAPS1, NNP), ...   \n",
       "3            80.0  [(Dear, NNP), (Local, NNP), (Newspaper, NNP), ...   \n",
       "4            28.0  [(Dear, NNP), (@, NNP), (LOCATION1, NNP), (,, ...   \n",
       "\n",
       "  count_adjectives  count_nouns  count_adverbs  num_sentences  \\\n",
       "0         0.051813     0.142487       0.054404             11   \n",
       "1         0.040948     0.118534       0.036638             19   \n",
       "2         0.047923     0.124601       0.035144             15   \n",
       "3         0.068740     0.119476       0.042553             25   \n",
       "4         0.044487     0.127660       0.065764             31   \n",
       "\n",
       "                                        bag_of_words  \n",
       "0  [{u'Dear': 1}, {u'local': 1}, {u'newspaper': 1...  \n",
       "1  [{u'Dear': 1}, {u'CAPS1': 1}, {u'CAPS2': 1}, {...  \n",
       "2  [{u'Dear': 1}, {u'CAPS1': 1}, {u'CAPS2': 1}, {...  \n",
       "3  [{u'Dear': 1}, {u'Local': 1}, {u'Newspaper': 1...  \n",
       "4  [{u'Dear': 1}, {u'LOCATION1': 1}, {u'I': 1}, {...  \n",
       "\n",
       "[5 rows x 21 columns]"
      ]
     },
     "execution_count": 4,
     "metadata": {},
     "output_type": "execute_result"
    }
   ],
   "source": [
    "df.head()"
   ]
  },
  {
   "cell_type": "code",
   "execution_count": 5,
   "metadata": {},
   "outputs": [],
   "source": [
    "from sklearn.ensemble import RandomForestRegressor\n",
    "regr = RandomForestRegressor(max_depth=5, random_state=0)"
   ]
  },
  {
   "cell_type": "code",
   "execution_count": 6,
   "metadata": {},
   "outputs": [
    {
     "data": {
      "text/plain": [
       "RandomForestRegressor(bootstrap=True, criterion='mse', max_depth=5,\n",
       "           max_features='auto', max_leaf_nodes=None,\n",
       "           min_impurity_decrease=0.0, min_impurity_split=None,\n",
       "           min_samples_leaf=1, min_samples_split=2,\n",
       "           min_weight_fraction_leaf=0.0, n_estimators=10, n_jobs=1,\n",
       "           oob_score=False, random_state=0, verbose=0, warm_start=False)"
      ]
     },
     "execution_count": 6,
     "metadata": {},
     "output_type": "execute_result"
    }
   ],
   "source": [
    "regr.fit(X_train, y_train)"
   ]
  },
  {
   "cell_type": "code",
   "execution_count": 7,
   "metadata": {},
   "outputs": [
    {
     "name": "stdout",
     "output_type": "stream",
     "text": [
      "[9.55631113e-01 4.48240167e-03 1.24888483e-04 4.97627567e-04\n",
      " 1.14150583e-04 1.96758306e-04 1.34614118e-04 8.07450804e-03\n",
      " 2.73202864e-02 1.53102276e-03 1.89262877e-03]\n"
     ]
    }
   ],
   "source": [
    "print(regr.feature_importances_)"
   ]
  },
  {
   "cell_type": "markdown",
   "metadata": {},
   "source": [
    "based on the above result, we can drop few features which does not contribute much towards the final score. these features are:\n",
    "    1. count_adverbs\n",
    "    2. count_nouns\n",
    "    3. count_adjectives\n",
    "    4. spell_mistakes\n",
    "    5. mentions_count\n",
    "Hence, new features: \n",
    "'essay_set','num_sentences','count_nouns','punctuation','word_count','Avg_word_len','lengthy_words'"
   ]
  },
  {
   "cell_type": "code",
   "execution_count": 8,
   "metadata": {},
   "outputs": [
    {
     "data": {
      "text/html": [
       "<div>\n",
       "<style scoped>\n",
       "    .dataframe tbody tr th:only-of-type {\n",
       "        vertical-align: middle;\n",
       "    }\n",
       "\n",
       "    .dataframe tbody tr th {\n",
       "        vertical-align: top;\n",
       "    }\n",
       "\n",
       "    .dataframe thead th {\n",
       "        text-align: right;\n",
       "    }\n",
       "</style>\n",
       "<table border=\"1\" class=\"dataframe\">\n",
       "  <thead>\n",
       "    <tr style=\"text-align: right;\">\n",
       "      <th></th>\n",
       "      <th>essay_set</th>\n",
       "      <th>num_sentences</th>\n",
       "      <th>punctuation</th>\n",
       "      <th>word_count</th>\n",
       "      <th>Avg_word_len</th>\n",
       "      <th>lengthy_words</th>\n",
       "    </tr>\n",
       "  </thead>\n",
       "  <tbody>\n",
       "    <tr>\n",
       "      <th>0</th>\n",
       "      <td>1</td>\n",
       "      <td>11</td>\n",
       "      <td>55.0</td>\n",
       "      <td>181</td>\n",
       "      <td>4.550296</td>\n",
       "      <td>0.254438</td>\n",
       "    </tr>\n",
       "    <tr>\n",
       "      <th>1</th>\n",
       "      <td>1</td>\n",
       "      <td>19</td>\n",
       "      <td>46.0</td>\n",
       "      <td>244</td>\n",
       "      <td>4.463007</td>\n",
       "      <td>0.269690</td>\n",
       "    </tr>\n",
       "    <tr>\n",
       "      <th>2</th>\n",
       "      <td>1</td>\n",
       "      <td>15</td>\n",
       "      <td>34.0</td>\n",
       "      <td>150</td>\n",
       "      <td>4.526882</td>\n",
       "      <td>0.308244</td>\n",
       "    </tr>\n",
       "    <tr>\n",
       "      <th>3</th>\n",
       "      <td>1</td>\n",
       "      <td>25</td>\n",
       "      <td>91.0</td>\n",
       "      <td>317</td>\n",
       "      <td>5.041985</td>\n",
       "      <td>0.383588</td>\n",
       "    </tr>\n",
       "    <tr>\n",
       "      <th>4</th>\n",
       "      <td>1</td>\n",
       "      <td>31</td>\n",
       "      <td>55.0</td>\n",
       "      <td>254</td>\n",
       "      <td>4.526882</td>\n",
       "      <td>0.288172</td>\n",
       "    </tr>\n",
       "  </tbody>\n",
       "</table>\n",
       "</div>"
      ],
      "text/plain": [
       "   essay_set  num_sentences  punctuation  word_count  Avg_word_len  \\\n",
       "0          1             11         55.0         181      4.550296   \n",
       "1          1             19         46.0         244      4.463007   \n",
       "2          1             15         34.0         150      4.526882   \n",
       "3          1             25         91.0         317      5.041985   \n",
       "4          1             31         55.0         254      4.526882   \n",
       "\n",
       "   lengthy_words  \n",
       "0       0.254438  \n",
       "1       0.269690  \n",
       "2       0.308244  \n",
       "3       0.383588  \n",
       "4       0.288172  "
      ]
     },
     "execution_count": 8,
     "metadata": {},
     "output_type": "execute_result"
    }
   ],
   "source": [
    "df[['essay_set','num_sentences','punctuation','word_count','Avg_word_len','lengthy_words']].head()"
   ]
  },
  {
   "cell_type": "code",
   "execution_count": 9,
   "metadata": {},
   "outputs": [],
   "source": [
    "X = df[['essay_set','num_sentences','punctuation','word_count','Avg_word_len','lengthy_words']].as_matrix()"
   ]
  },
  {
   "cell_type": "code",
   "execution_count": 10,
   "metadata": {},
   "outputs": [],
   "source": [
    "X_train, X_test, y_train, y_test = train_test_split(X, Y, test_size=0.33, random_state=42)"
   ]
  },
  {
   "cell_type": "code",
   "execution_count": 11,
   "metadata": {},
   "outputs": [
    {
     "data": {
      "text/plain": [
       "RandomForestRegressor(bootstrap=True, criterion='mse', max_depth=5,\n",
       "           max_features='auto', max_leaf_nodes=None,\n",
       "           min_impurity_decrease=0.0, min_impurity_split=None,\n",
       "           min_samples_leaf=1, min_samples_split=2,\n",
       "           min_weight_fraction_leaf=0.0, n_estimators=10, n_jobs=1,\n",
       "           oob_score=False, random_state=0, verbose=0, warm_start=False)"
      ]
     },
     "execution_count": 11,
     "metadata": {},
     "output_type": "execute_result"
    }
   ],
   "source": [
    "regr.fit(X_train, y_train)"
   ]
  },
  {
   "cell_type": "code",
   "execution_count": 12,
   "metadata": {},
   "outputs": [
    {
     "name": "stdout",
     "output_type": "stream",
     "text": [
      "[0.95583269 0.00461064 0.00824925 0.02754986 0.00168761 0.00206996]\n"
     ]
    }
   ],
   "source": [
    "print(regr.feature_importances_)"
   ]
  },
  {
   "cell_type": "code",
   "execution_count": 13,
   "metadata": {},
   "outputs": [],
   "source": [
    "prediction = regr.predict(X_test)\n",
    "\n",
    "def classify(prediction):\n",
    "    for i in range(len(prediction)):\n",
    "        if prediction[i] > 60: # \n",
    "            prediction[i] = 30.0\n",
    "        prediction[i] = int(round(prediction[i]))\n",
    "    return prediction\n",
    "prediction = classify(prediction)"
   ]
  },
  {
   "cell_type": "code",
   "execution_count": 14,
   "metadata": {},
   "outputs": [
    {
     "data": {
      "image/png": "[encoded data removed]",
      "text/plain": [
       "<matplotlib.figure.Figure at 0x136b89d0>"
      ]
     },
     "metadata": {},
     "output_type": "display_data"
    }
   ],
   "source": [
    "plt.plot(prediction-y_test)\n",
    "plt.show()"
   ]
  },
  {
   "cell_type": "code",
   "execution_count": 15,
   "metadata": {},
   "outputs": [
    {
     "data": {
      "text/plain": [
       "43.0"
      ]
     },
     "execution_count": 15,
     "metadata": {},
     "output_type": "execute_result"
    }
   ],
   "source": [
    "prediction.max()"
   ]
  },
  {
   "cell_type": "code",
   "execution_count": 16,
   "metadata": {},
   "outputs": [
    {
     "data": {
      "text/plain": [
       "1.0"
      ]
     },
     "execution_count": 16,
     "metadata": {},
     "output_type": "execute_result"
    }
   ],
   "source": [
    "prediction.min()"
   ]
  },
  {
   "cell_type": "code",
   "execution_count": 17,
   "metadata": {},
   "outputs": [
    {
     "data": {
      "image/png": "[encoded data removed]",
      "text/plain": [
       "<matplotlib.figure.Figure at 0x136b8210>"
      ]
     },
     "metadata": {},
     "output_type": "display_data"
    }
   ],
   "source": [
    "xvals = np.arange(0,len(prediction)) \n",
    "yvals = prediction \n",
    "plt.plot(xvals, yvals,'r+')\n",
    "plt.plot(xvals,y_test,'g+')\n",
    "plt.show() "
   ]
  },
  {
   "cell_type": "markdown",
   "metadata": {},
   "source": [
    "Lets explore few commonly used metrics"
   ]
  },
  {
   "cell_type": "markdown",
   "metadata": {},
   "source": [
    "Mean Squared error :"
   ]
  },
  {
   "cell_type": "code",
   "execution_count": 18,
   "metadata": {},
   "outputs": [
    {
     "data": {
      "text/plain": [
       "1.5784416162868204"
      ]
     },
     "execution_count": 18,
     "metadata": {},
     "output_type": "execute_result"
    }
   ],
   "source": [
    "from sklearn.metrics import mean_squared_error\n",
    "from math import sqrt\n",
    "\n",
    "sqrt(mean_squared_error(y_test, prediction))"
   ]
  },
  {
   "cell_type": "markdown",
   "metadata": {},
   "source": [
    "R2 : perfect score is 1.0"
   ]
  },
  {
   "cell_type": "code",
   "execution_count": 19,
   "metadata": {},
   "outputs": [
    {
     "data": {
      "text/plain": [
       "0.967185769423388"
      ]
     },
     "execution_count": 19,
     "metadata": {},
     "output_type": "execute_result"
    }
   ],
   "source": [
    "from sklearn.metrics import r2_score\n",
    "r2_score(y_test, prediction)"
   ]
  },
  {
   "cell_type": "markdown",
   "metadata": {},
   "source": [
    "Lets try quadratic weighted kappa as explained in kaggle essay competition competition"
   ]
  },
  {
   "cell_type": "code",
   "execution_count": 20,
   "metadata": {},
   "outputs": [
    {
     "data": {
      "text/plain": [
       "0.43619526783189766"
      ]
     },
     "execution_count": 20,
     "metadata": {},
     "output_type": "execute_result"
    }
   ],
   "source": [
    "from sklearn.metrics import cohen_kappa_score\n",
    "cohen_kappa_score(y_test, prediction)"
   ]
  },
  {
   "cell_type": "markdown",
   "metadata": {},
   "source": [
    "Lets try tweaking some parameters "
   ]
  },
  {
   "cell_type": "code",
   "execution_count": 21,
   "metadata": {},
   "outputs": [
    {
     "name": "stdout",
     "output_type": "stream",
     "text": [
      "10 kappa: 0.43619526783189766 r2: 0.967185769423388\n",
      "60 kappa: 0.43619526783189766 r2: 0.967185769423388\n",
      "110 kappa: 0.43619526783189766 r2: 0.967185769423388\n",
      "160 kappa: 0.43619526783189766 r2: 0.967185769423388\n",
      "210 kappa: 0.43619526783189766 r2: 0.967185769423388\n",
      "260 kappa: 0.43619526783189766 r2: 0.967185769423388\n",
      "310 kappa: 0.43619526783189766 r2: 0.967185769423388\n",
      "360 kappa: 0.43619526783189766 r2: 0.967185769423388\n",
      "410 kappa: 0.43619526783189766 r2: 0.967185769423388\n",
      "460 kappa: 0.43619526783189766 r2: 0.967185769423388\n",
      "510 kappa: 0.43619526783189766 r2: 0.967185769423388\n",
      "560 kappa: 0.43619526783189766 r2: 0.967185769423388\n",
      "610 kappa: 0.43619526783189766 r2: 0.967185769423388\n",
      "660 kappa: 0.43619526783189766 r2: 0.967185769423388\n",
      "710 kappa: 0.43619526783189766 r2: 0.967185769423388\n",
      "760 kappa: 0.43619526783189766 r2: 0.967185769423388\n",
      "810 kappa: 0.43619526783189766 r2: 0.967185769423388\n",
      "860 kappa: 0.43619526783189766 r2: 0.967185769423388\n",
      "910 kappa: 0.43619526783189766 r2: 0.967185769423388\n",
      "960 kappa: 0.43619526783189766 r2: 0.967185769423388\n"
     ]
    }
   ],
   "source": [
    "for i in range(10,1000,50):\n",
    "    print i,\n",
    "    regr_sr = RandomForestRegressor(n_estimators = i,  max_depth=5, random_state=0)\n",
    "    regr_sr.fit(X_train, y_train)\n",
    "    pred_sr = regr.predict(X_test)\n",
    "    print 'kappa: '+str(cohen_kappa_score(y_test, classify(pred_sr))),\n",
    "    print 'r2: '+str(r2_score(y_test, classify(pred_sr)))"
   ]
  },
  {
   "cell_type": "code",
   "execution_count": 22,
   "metadata": {},
   "outputs": [
    {
     "name": "stdout",
     "output_type": "stream",
     "text": [
      "1 kappa: 0.43619526783189766 r2: 0.967185769423388\n",
      "2 kappa: 0.43619526783189766 r2: 0.967185769423388\n",
      "3 kappa: 0.43619526783189766 r2: 0.967185769423388\n",
      "4 kappa: 0.43619526783189766 r2: 0.967185769423388\n",
      "5 kappa: 0.43619526783189766 r2: 0.967185769423388\n"
     ]
    }
   ],
   "source": [
    "for i in range(1,6):\n",
    "    print i,\n",
    "    regr_sr = RandomForestRegressor(max_features = i,  max_depth=5, random_state=0)\n",
    "    regr_sr.fit(X_train, y_train)\n",
    "    pred_sr = regr.predict(X_test)\n",
    "    print 'kappa: '+str(cohen_kappa_score(y_test, classify(pred_sr))),\n",
    "    print 'r2: '+str(r2_score(y_test, classify(pred_sr)))"
   ]
  },
  {
   "cell_type": "code",
   "execution_count": 23,
   "metadata": {},
   "outputs": [
    {
     "name": "stdout",
     "output_type": "stream",
     "text": [
      "1 kappa: 0.43619526783189766 r2: 0.967185769423388\n",
      "6 kappa: 0.43619526783189766 r2: 0.967185769423388\n",
      "11 kappa: 0.43619526783189766 r2: 0.967185769423388\n",
      "16 kappa: 0.43619526783189766 r2: 0.967185769423388\n",
      "21 kappa: 0.43619526783189766 r2: 0.967185769423388\n",
      "26 kappa: 0.43619526783189766 r2: 0.967185769423388\n",
      "31 kappa: 0.43619526783189766 r2: 0.967185769423388\n",
      "36 kappa: 0.43619526783189766 r2: 0.967185769423388\n",
      "41 kappa: 0.43619526783189766 r2: 0.967185769423388\n",
      "46 kappa: 0.43619526783189766 r2: 0.967185769423388\n"
     ]
    }
   ],
   "source": [
    "for i in range(1,50,5):\n",
    "    print i,\n",
    "    regr_sr = RandomForestRegressor(max_depth = i, random_state=0)\n",
    "    regr_sr.fit(X_train, y_train)\n",
    "    pred_sr = regr.predict(X_test)\n",
    "    print 'kappa: '+str(cohen_kappa_score(y_test, classify(pred_sr))),\n",
    "    print 'r2: '+str(r2_score(y_test, classify(pred_sr)))"
   ]
  },
  {
   "cell_type": "code",
   "execution_count": null,
   "metadata": {},
   "outputs": [],
   "source": []
  }
 ],
 "metadata": {
  "kernelspec": {
   "display_name": "Python 2",
   "language": "python",
   "name": "python2"
  },
  "language_info": {
   "codemirror_mode": {
    "name": "ipython",
    "version": 2
   },
   "file_extension": ".py",
   "mimetype": "text/x-python",
   "name": "python",
   "nbconvert_exporter": "python",
   "pygments_lexer": "ipython2",
   "version": "2.7.5"
  }
 },
 "nbformat": 4,
 "nbformat_minor": 2
}
